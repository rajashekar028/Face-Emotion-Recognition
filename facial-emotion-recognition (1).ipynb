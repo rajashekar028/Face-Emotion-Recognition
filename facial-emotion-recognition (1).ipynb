{
 "cells": [
  {
   "cell_type": "markdown",
   "id": "casual-mystery",
   "metadata": {
    "papermill": {
     "duration": 0.014231,
     "end_time": "2021-06-22T06:03:27.921597",
     "exception": false,
     "start_time": "2021-06-22T06:03:27.907366",
     "status": "completed"
    },
    "tags": []
   },
   "source": [
    "## Facial expression for emotion detection has always been an easy task for humans, but achieving the same task with a computer algorithm is quite challenging. With the recent advancement in computer vision and machine learning, it is possible to detect emotions from images.\n",
    "\n",
    "### In this project we use a technique called facial emotion recognition using convolutional neural networks **(FERC)**\n",
    "\n",
    "### The FERC is based on two-part :-\n",
    "### 1. convolutional neural network (CNN): The first-part removes the background from the picture, \n",
    "### 2. The second part concentrates on the facial feature vector extraction"
   ]
  },
  {
   "cell_type": "markdown",
   "id": "loving-surgery",
   "metadata": {
    "papermill": {
     "duration": 0.013105,
     "end_time": "2021-06-22T06:03:27.947962",
     "exception": false,
     "start_time": "2021-06-22T06:03:27.934857",
     "status": "completed"
    },
    "tags": []
   },
   "source": [
    "# Libraries"
   ]
  },
  {
   "cell_type": "code",
   "execution_count": 1,
   "id": "brown-geneva",
   "metadata": {
    "execution": {
     "iopub.execute_input": "2021-06-22T06:03:27.985213Z",
     "iopub.status.busy": "2021-06-22T06:03:27.984621Z",
     "iopub.status.idle": "2021-06-22T06:03:33.221652Z",
     "shell.execute_reply": "2021-06-22T06:03:33.221010Z",
     "shell.execute_reply.started": "2021-06-22T05:23:07.429376Z"
    },
    "papermill": {
     "duration": 5.26072,
     "end_time": "2021-06-22T06:03:33.221804",
     "exception": false,
     "start_time": "2021-06-22T06:03:27.961084",
     "status": "completed"
    },
    "tags": []
   },
   "outputs": [],
   "source": [
    "## General Libraries\n",
    "import matplotlib.pyplot as plt\n",
    "import numpy as np\n",
    "import pandas as pd\n",
    "import seaborn as sns\n",
    "import os\n",
    "\n",
    "## Deep Learning Libraries\n",
    "\n",
    "import keras\n",
    "from keras.preprocessing.image import ImageDataGenerator\n",
    "from keras.models import Sequential\n",
    "from keras.layers import Dense,Dropout,Activation,Flatten,BatchNormalization\n",
    "from keras.layers import Conv2D,MaxPooling2D\n",
    "from keras.preprocessing.image import load_img, img_to_array"
   ]
  },
  {
   "cell_type": "markdown",
   "id": "prompt-mixture",
   "metadata": {
    "papermill": {
     "duration": 0.013257,
     "end_time": "2021-06-22T06:03:33.249253",
     "exception": false,
     "start_time": "2021-06-22T06:03:33.235996",
     "status": "completed"
    },
    "tags": []
   },
   "source": [
    "# Data"
   ]
  },
  {
   "cell_type": "code",
   "execution_count": 2,
   "id": "liked-column",
   "metadata": {
    "execution": {
     "iopub.execute_input": "2021-06-22T06:03:33.284740Z",
     "iopub.status.busy": "2021-06-22T06:03:33.284225Z",
     "iopub.status.idle": "2021-06-22T06:03:38.448083Z",
     "shell.execute_reply": "2021-06-22T06:03:38.447180Z",
     "shell.execute_reply.started": "2021-06-22T05:30:08.979479Z"
    },
    "papermill": {
     "duration": 5.185487,
     "end_time": "2021-06-22T06:03:38.448245",
     "exception": false,
     "start_time": "2021-06-22T06:03:33.262758",
     "status": "completed"
    },
    "tags": []
   },
   "outputs": [],
   "source": [
    "df = pd.read_csv('../input/facialexpressionrecognition/fer2013.csv')"
   ]
  },
  {
   "cell_type": "code",
   "execution_count": 3,
   "id": "fuzzy-tactics",
   "metadata": {
    "execution": {
     "iopub.execute_input": "2021-06-22T06:03:38.489851Z",
     "iopub.status.busy": "2021-06-22T06:03:38.489005Z",
     "iopub.status.idle": "2021-06-22T06:03:38.497204Z",
     "shell.execute_reply": "2021-06-22T06:03:38.497601Z",
     "shell.execute_reply.started": "2021-06-22T05:30:32.169992Z"
    },
    "papermill": {
     "duration": 0.035776,
     "end_time": "2021-06-22T06:03:38.497733",
     "exception": false,
     "start_time": "2021-06-22T06:03:38.461957",
     "status": "completed"
    },
    "tags": []
   },
   "outputs": [
    {
     "data": {
      "text/html": [
       "<div>\n",
       "<style scoped>\n",
       "    .dataframe tbody tr th:only-of-type {\n",
       "        vertical-align: middle;\n",
       "    }\n",
       "\n",
       "    .dataframe tbody tr th {\n",
       "        vertical-align: top;\n",
       "    }\n",
       "\n",
       "    .dataframe thead th {\n",
       "        text-align: right;\n",
       "    }\n",
       "</style>\n",
       "<table border=\"1\" class=\"dataframe\">\n",
       "  <thead>\n",
       "    <tr style=\"text-align: right;\">\n",
       "      <th></th>\n",
       "      <th>emotion</th>\n",
       "      <th>pixels</th>\n",
       "      <th>Usage</th>\n",
       "    </tr>\n",
       "  </thead>\n",
       "  <tbody>\n",
       "    <tr>\n",
       "      <th>0</th>\n",
       "      <td>0</td>\n",
       "      <td>70 80 82 72 58 58 60 63 54 58 60 48 89 115 121...</td>\n",
       "      <td>Training</td>\n",
       "    </tr>\n",
       "    <tr>\n",
       "      <th>1</th>\n",
       "      <td>0</td>\n",
       "      <td>151 150 147 155 148 133 111 140 170 174 182 15...</td>\n",
       "      <td>Training</td>\n",
       "    </tr>\n",
       "    <tr>\n",
       "      <th>2</th>\n",
       "      <td>2</td>\n",
       "      <td>231 212 156 164 174 138 161 173 182 200 106 38...</td>\n",
       "      <td>Training</td>\n",
       "    </tr>\n",
       "    <tr>\n",
       "      <th>3</th>\n",
       "      <td>4</td>\n",
       "      <td>24 32 36 30 32 23 19 20 30 41 21 22 32 34 21 1...</td>\n",
       "      <td>Training</td>\n",
       "    </tr>\n",
       "    <tr>\n",
       "      <th>4</th>\n",
       "      <td>6</td>\n",
       "      <td>4 0 0 0 0 0 0 0 0 0 0 0 3 15 23 28 48 50 58 84...</td>\n",
       "      <td>Training</td>\n",
       "    </tr>\n",
       "  </tbody>\n",
       "</table>\n",
       "</div>"
      ],
      "text/plain": [
       "   emotion                                             pixels     Usage\n",
       "0        0  70 80 82 72 58 58 60 63 54 58 60 48 89 115 121...  Training\n",
       "1        0  151 150 147 155 148 133 111 140 170 174 182 15...  Training\n",
       "2        2  231 212 156 164 174 138 161 173 182 200 106 38...  Training\n",
       "3        4  24 32 36 30 32 23 19 20 30 41 21 22 32 34 21 1...  Training\n",
       "4        6  4 0 0 0 0 0 0 0 0 0 0 0 3 15 23 28 48 50 58 84...  Training"
      ]
     },
     "execution_count": 3,
     "metadata": {},
     "output_type": "execute_result"
    }
   ],
   "source": [
    "df.head()"
   ]
  },
  {
   "cell_type": "code",
   "execution_count": 4,
   "id": "behind-thailand",
   "metadata": {
    "execution": {
     "iopub.execute_input": "2021-06-22T06:03:38.531258Z",
     "iopub.status.busy": "2021-06-22T06:03:38.530481Z",
     "iopub.status.idle": "2021-06-22T06:03:38.533698Z",
     "shell.execute_reply": "2021-06-22T06:03:38.534110Z",
     "shell.execute_reply.started": "2021-06-22T05:30:32.279289Z"
    },
    "papermill": {
     "duration": 0.022091,
     "end_time": "2021-06-22T06:03:38.534230",
     "exception": false,
     "start_time": "2021-06-22T06:03:38.512139",
     "status": "completed"
    },
    "tags": []
   },
   "outputs": [
    {
     "data": {
      "text/plain": [
       "(35887, 3)"
      ]
     },
     "execution_count": 4,
     "metadata": {},
     "output_type": "execute_result"
    }
   ],
   "source": [
    "## shape of the dataset\n",
    "\n",
    "df.shape"
   ]
  },
  {
   "cell_type": "code",
   "execution_count": 5,
   "id": "developmental-simpson",
   "metadata": {
    "execution": {
     "iopub.execute_input": "2021-06-22T06:03:38.575854Z",
     "iopub.status.busy": "2021-06-22T06:03:38.575078Z",
     "iopub.status.idle": "2021-06-22T06:03:38.580690Z",
     "shell.execute_reply": "2021-06-22T06:03:38.580282Z",
     "shell.execute_reply.started": "2021-06-22T05:30:32.289801Z"
    },
    "papermill": {
     "duration": 0.032355,
     "end_time": "2021-06-22T06:03:38.580853",
     "exception": false,
     "start_time": "2021-06-22T06:03:38.548498",
     "status": "completed"
    },
    "tags": []
   },
   "outputs": [
    {
     "data": {
      "text/plain": [
       "emotion    0\n",
       "pixels     0\n",
       "Usage      0\n",
       "dtype: int64"
      ]
     },
     "execution_count": 5,
     "metadata": {},
     "output_type": "execute_result"
    }
   ],
   "source": [
    "## checking for null values\n",
    "\n",
    "df.isnull().sum()"
   ]
  },
  {
   "cell_type": "markdown",
   "id": "developed-bonus",
   "metadata": {
    "papermill": {
     "duration": 0.01468,
     "end_time": "2021-06-22T06:03:38.610344",
     "exception": false,
     "start_time": "2021-06-22T06:03:38.595664",
     "status": "completed"
    },
    "tags": []
   },
   "source": [
    "So, in the dataset there is not any missing values."
   ]
  },
  {
   "cell_type": "markdown",
   "id": "declared-prince",
   "metadata": {
    "papermill": {
     "duration": 0.014534,
     "end_time": "2021-06-22T06:03:38.639837",
     "exception": false,
     "start_time": "2021-06-22T06:03:38.625303",
     "status": "completed"
    },
    "tags": []
   },
   "source": [
    "# count of each classes"
   ]
  },
  {
   "cell_type": "code",
   "execution_count": 6,
   "id": "running-disco",
   "metadata": {
    "execution": {
     "iopub.execute_input": "2021-06-22T06:03:38.676485Z",
     "iopub.status.busy": "2021-06-22T06:03:38.675624Z",
     "iopub.status.idle": "2021-06-22T06:03:38.682109Z",
     "shell.execute_reply": "2021-06-22T06:03:38.681687Z",
     "shell.execute_reply.started": "2021-06-22T06:02:39.462792Z"
    },
    "papermill": {
     "duration": 0.027513,
     "end_time": "2021-06-22T06:03:38.682226",
     "exception": false,
     "start_time": "2021-06-22T06:03:38.654713",
     "status": "completed"
    },
    "tags": []
   },
   "outputs": [
    {
     "data": {
      "text/plain": [
       "3    8989\n",
       "6    6198\n",
       "4    6077\n",
       "2    5121\n",
       "0    4953\n",
       "5    4002\n",
       "1     547\n",
       "Name: emotion, dtype: int64"
      ]
     },
     "execution_count": 6,
     "metadata": {},
     "output_type": "execute_result"
    }
   ],
   "source": [
    "df['emotion'].value_counts()"
   ]
  },
  {
   "cell_type": "markdown",
   "id": "vanilla-category",
   "metadata": {
    "papermill": {
     "duration": 0.014868,
     "end_time": "2021-06-22T06:03:38.712161",
     "exception": false,
     "start_time": "2021-06-22T06:03:38.697293",
     "status": "completed"
    },
    "tags": []
   },
   "source": [
    "# Path of input Data"
   ]
  },
  {
   "cell_type": "code",
   "execution_count": 7,
   "id": "ruled-mambo",
   "metadata": {
    "execution": {
     "iopub.execute_input": "2021-06-22T06:03:38.746559Z",
     "iopub.status.busy": "2021-06-22T06:03:38.745979Z",
     "iopub.status.idle": "2021-06-22T06:03:38.750212Z",
     "shell.execute_reply": "2021-06-22T06:03:38.749754Z",
     "shell.execute_reply.started": "2021-06-22T05:30:32.317151Z"
    },
    "papermill": {
     "duration": 0.022921,
     "end_time": "2021-06-22T06:03:38.750326",
     "exception": false,
     "start_time": "2021-06-22T06:03:38.727405",
     "status": "completed"
    },
    "tags": []
   },
   "outputs": [],
   "source": [
    "train_data_dir = '../input/emotion-detection-fer/train'\n",
    "validation_data_dir = '../input/emotion-detection-fer/test'"
   ]
  },
  {
   "cell_type": "markdown",
   "id": "numeric-background",
   "metadata": {
    "papermill": {
     "duration": 0.014747,
     "end_time": "2021-06-22T06:03:38.780098",
     "exception": false,
     "start_time": "2021-06-22T06:03:38.765351",
     "status": "completed"
    },
    "tags": []
   },
   "source": [
    "# Displaying Images"
   ]
  },
  {
   "cell_type": "code",
   "execution_count": 8,
   "id": "seventh-lounge",
   "metadata": {
    "execution": {
     "iopub.execute_input": "2021-06-22T06:03:38.830352Z",
     "iopub.status.busy": "2021-06-22T06:03:38.829473Z",
     "iopub.status.idle": "2021-06-22T06:03:40.006424Z",
     "shell.execute_reply": "2021-06-22T06:03:40.006974Z",
     "shell.execute_reply.started": "2021-06-22T05:30:32.325521Z"
    },
    "papermill": {
     "duration": 1.212128,
     "end_time": "2021-06-22T06:03:40.007147",
     "exception": false,
     "start_time": "2021-06-22T06:03:38.795019",
     "status": "completed"
    },
    "tags": []
   },
   "outputs": [
    {
     "data": {
      "image/png": "[encoded data removed]",
      "text/plain": [
       "<Figure size 864x864 with 9 Axes>"
      ]
     },
     "metadata": {
      "needs_background": "light"
     },
     "output_type": "display_data"
    }
   ],
   "source": [
    "# size of the image: 48*48 pixels\n",
    "picture_size = 48\n",
    "\n",
    "# input path for the images\n",
    "folder_path = \"../input/emotion-detection-fer/train\"\n",
    "\n",
    "expression = 'sad'\n",
    "\n",
    "plt.figure(figsize= (12,12))\n",
    "for i in range(1, 10, 1):\n",
    "    plt.subplot(3,3,i)\n",
    "    img = load_img(folder_path+ '/' +expression+\"/\"+\n",
    "                  os.listdir(folder_path+ '/' + expression)[i], target_size=(picture_size, picture_size))\n",
    "    plt.imshow(img)   \n",
    "plt.show()"
   ]
  },
  {
   "cell_type": "markdown",
   "id": "magnetic-sleeve",
   "metadata": {
    "papermill": {
     "duration": 0.016919,
     "end_time": "2021-06-22T06:03:40.041700",
     "exception": false,
     "start_time": "2021-06-22T06:03:40.024781",
     "status": "completed"
    },
    "tags": []
   },
   "source": [
    "# Model Training and Validation Data"
   ]
  },
  {
   "cell_type": "code",
   "execution_count": 9,
   "id": "confirmed-syndication",
   "metadata": {
    "execution": {
     "iopub.execute_input": "2021-06-22T06:03:40.080329Z",
     "iopub.status.busy": "2021-06-22T06:03:40.079528Z",
     "iopub.status.idle": "2021-06-22T06:03:40.082546Z",
     "shell.execute_reply": "2021-06-22T06:03:40.082009Z",
     "shell.execute_reply.started": "2021-06-22T05:30:34.030036Z"
    },
    "papermill": {
     "duration": 0.02405,
     "end_time": "2021-06-22T06:03:40.082663",
     "exception": false,
     "start_time": "2021-06-22T06:03:40.058613",
     "status": "completed"
    },
    "tags": []
   },
   "outputs": [],
   "source": [
    "## Defining different classes of emotion\n",
    "num_classes = 7\n",
    "\n",
    "## Define image size\n",
    "img_rows,img_cols = 48,48\n",
    "\n",
    "## Deifne the batch\n",
    "batch_size = 64"
   ]
  },
  {
   "cell_type": "code",
   "execution_count": 10,
   "id": "copyrighted-finish",
   "metadata": {
    "execution": {
     "iopub.execute_input": "2021-06-22T06:03:40.123388Z",
     "iopub.status.busy": "2021-06-22T06:03:40.122684Z",
     "iopub.status.idle": "2021-06-22T06:03:51.908794Z",
     "shell.execute_reply": "2021-06-22T06:03:51.907985Z",
     "shell.execute_reply.started": "2021-06-22T05:30:34.038294Z"
    },
    "papermill": {
     "duration": 11.809293,
     "end_time": "2021-06-22T06:03:51.908935",
     "exception": false,
     "start_time": "2021-06-22T06:03:40.099642",
     "status": "completed"
    },
    "tags": []
   },
   "outputs": [
    {
     "name": "stdout",
     "output_type": "stream",
     "text": [
      "Found 28709 images belonging to 7 classes.\n",
      "Found 7178 images belonging to 7 classes.\n"
     ]
    }
   ],
   "source": [
    "train_datagen = ImageDataGenerator(\n",
    "\t\t\t\t\trescale=1./255,\n",
    "\t\t\t\t\trotation_range=30,\n",
    "\t\t\t\t\tshear_range=0.3,\n",
    "\t\t\t\t\tzoom_range=0.3,\n",
    "\t\t\t\t\twidth_shift_range=0.4,\n",
    "\t\t\t\t\theight_shift_range=0.4,\n",
    "\t\t\t\t\thorizontal_flip=True,\n",
    "\t\t\t\t\tfill_mode='nearest')\n",
    "\n",
    "validation_datagen = ImageDataGenerator(rescale=1./255)\n",
    "\n",
    "train_generator = train_datagen.flow_from_directory(\n",
    "\t\t\t\t\ttrain_data_dir,\n",
    "\t\t\t\t\tcolor_mode='grayscale',\n",
    "\t\t\t\t\ttarget_size=(img_rows,img_cols),\n",
    "\t\t\t\t\tbatch_size=batch_size,\n",
    "\t\t\t\t\tclass_mode='categorical',\n",
    "\t\t\t\t\tshuffle=True)\n",
    "\n",
    "validation_generator = validation_datagen.flow_from_directory(\n",
    "\t\t\t\t\t\t\tvalidation_data_dir,\n",
    "\t\t\t\t\t\t\tcolor_mode='grayscale',\n",
    "\t\t\t\t\t\t\ttarget_size=(img_rows,img_cols),\n",
    "\t\t\t\t\t\t\tbatch_size=batch_size,\n",
    "\t\t\t\t\t\t\tclass_mode='categorical',\n",
    "\t\t\t\t\t\t\tshuffle=True)"
   ]
  },
  {
   "cell_type": "markdown",
   "id": "spread-contribution",
   "metadata": {
    "papermill": {
     "duration": 0.016565,
     "end_time": "2021-06-22T06:03:51.942423",
     "exception": false,
     "start_time": "2021-06-22T06:03:51.925858",
     "status": "completed"
    },
    "tags": []
   },
   "source": [
    "# Model Building"
   ]
  },
  {
   "cell_type": "code",
   "execution_count": 11,
   "id": "interstate-peace",
   "metadata": {
    "_cell_guid": "b1076dfc-b9ad-4769-8c92-a6c4dae69d19",
    "_uuid": "8f2839f25d086af736a60e9eeb907d3b93b6e0e5",
    "execution": {
     "iopub.execute_input": "2021-06-22T06:03:51.995999Z",
     "iopub.status.busy": "2021-06-22T06:03:51.995274Z",
     "iopub.status.idle": "2021-06-22T06:03:54.300434Z",
     "shell.execute_reply": "2021-06-22T06:03:54.299975Z",
     "shell.execute_reply.started": "2021-06-22T05:31:11.613745Z"
    },
    "papermill": {
     "duration": 2.341159,
     "end_time": "2021-06-22T06:03:54.300563",
     "exception": false,
     "start_time": "2021-06-22T06:03:51.959404",
     "status": "completed"
    },
    "tags": []
   },
   "outputs": [
    {
     "name": "stdout",
     "output_type": "stream",
     "text": [
      "Model: \"sequential\"\n",
      "_________________________________________________________________\n",
      "Layer (type)                 Output Shape              Param #   \n",
      "=================================================================\n",
      "conv2d (Conv2D)              (None, 48, 48, 32)        320       \n",
      "_________________________________________________________________\n",
      "activation (Activation)      (None, 48, 48, 32)        0         \n",
      "_________________________________________________________________\n",
      "batch_normalization (BatchNo (None, 48, 48, 32)        128       \n",
      "_________________________________________________________________\n",
      "conv2d_1 (Conv2D)            (None, 48, 48, 32)        9248      \n",
      "_________________________________________________________________\n",
      "activation_1 (Activation)    (None, 48, 48, 32)        0         \n",
      "_________________________________________________________________\n",
      "batch_normalization_1 (Batch (None, 48, 48, 32)        128       \n",
      "_________________________________________________________________\n",
      "max_pooling2d (MaxPooling2D) (None, 24, 24, 32)        0         \n",
      "_________________________________________________________________\n",
      "dropout (Dropout)            (None, 24, 24, 32)        0         \n",
      "_________________________________________________________________\n",
      "conv2d_2 (Conv2D)            (None, 24, 24, 64)        18496     \n",
      "_________________________________________________________________\n",
      "activation_2 (Activation)    (None, 24, 24, 64)        0         \n",
      "_________________________________________________________________\n",
      "batch_normalization_2 (Batch (None, 24, 24, 64)        256       \n",
      "_________________________________________________________________\n",
      "conv2d_3 (Conv2D)            (None, 24, 24, 64)        36928     \n",
      "_________________________________________________________________\n",
      "activation_3 (Activation)    (None, 24, 24, 64)        0         \n",
      "_________________________________________________________________\n",
      "batch_normalization_3 (Batch (None, 24, 24, 64)        256       \n",
      "_________________________________________________________________\n",
      "max_pooling2d_1 (MaxPooling2 (None, 12, 12, 64)        0         \n",
      "_________________________________________________________________\n",
      "dropout_1 (Dropout)          (None, 12, 12, 64)        0         \n",
      "_________________________________________________________________\n",
      "conv2d_4 (Conv2D)            (None, 12, 12, 128)       73856     \n",
      "_________________________________________________________________\n",
      "activation_4 (Activation)    (None, 12, 12, 128)       0         \n",
      "_________________________________________________________________\n",
      "batch_normalization_4 (Batch (None, 12, 12, 128)       512       \n",
      "_________________________________________________________________\n",
      "conv2d_5 (Conv2D)            (None, 12, 12, 128)       147584    \n",
      "_________________________________________________________________\n",
      "activation_5 (Activation)    (None, 12, 12, 128)       0         \n",
      "_________________________________________________________________\n",
      "batch_normalization_5 (Batch (None, 12, 12, 128)       512       \n",
      "_________________________________________________________________\n",
      "max_pooling2d_2 (MaxPooling2 (None, 6, 6, 128)         0         \n",
      "_________________________________________________________________\n",
      "dropout_2 (Dropout)          (None, 6, 6, 128)         0         \n",
      "_________________________________________________________________\n",
      "conv2d_6 (Conv2D)            (None, 6, 6, 256)         295168    \n",
      "_________________________________________________________________\n",
      "activation_6 (Activation)    (None, 6, 6, 256)         0         \n",
      "_________________________________________________________________\n",
      "batch_normalization_6 (Batch (None, 6, 6, 256)         1024      \n",
      "_________________________________________________________________\n",
      "conv2d_7 (Conv2D)            (None, 6, 6, 256)         590080    \n",
      "_________________________________________________________________\n",
      "activation_7 (Activation)    (None, 6, 6, 256)         0         \n",
      "_________________________________________________________________\n",
      "batch_normalization_7 (Batch (None, 6, 6, 256)         1024      \n",
      "_________________________________________________________________\n",
      "max_pooling2d_3 (MaxPooling2 (None, 3, 3, 256)         0         \n",
      "_________________________________________________________________\n",
      "dropout_3 (Dropout)          (None, 3, 3, 256)         0         \n",
      "_________________________________________________________________\n",
      "flatten (Flatten)            (None, 2304)              0         \n",
      "_________________________________________________________________\n",
      "dense (Dense)                (None, 64)                147520    \n",
      "_________________________________________________________________\n",
      "activation_8 (Activation)    (None, 64)                0         \n",
      "_________________________________________________________________\n",
      "batch_normalization_8 (Batch (None, 64)                256       \n",
      "_________________________________________________________________\n",
      "dropout_4 (Dropout)          (None, 64)                0         \n",
      "_________________________________________________________________\n",
      "dense_1 (Dense)              (None, 64)                4160      \n",
      "_________________________________________________________________\n",
      "activation_9 (Activation)    (None, 64)                0         \n",
      "_________________________________________________________________\n",
      "batch_normalization_9 (Batch (None, 64)                256       \n",
      "_________________________________________________________________\n",
      "dropout_5 (Dropout)          (None, 64)                0         \n",
      "_________________________________________________________________\n",
      "dense_2 (Dense)              (None, 7)                 455       \n",
      "_________________________________________________________________\n",
      "activation_10 (Activation)   (None, 7)                 0         \n",
      "=================================================================\n",
      "Total params: 1,328,167\n",
      "Trainable params: 1,325,991\n",
      "Non-trainable params: 2,176\n",
      "_________________________________________________________________\n",
      "None\n"
     ]
    }
   ],
   "source": [
    "\n",
    "model = Sequential()\n",
    "\n",
    "# Block-1\n",
    "\n",
    "model.add(Conv2D(32,(3,3),padding='same',kernel_initializer='he_normal',input_shape=(img_rows,img_cols,1)))\n",
    "model.add(Activation('elu'))\n",
    "model.add(BatchNormalization())\n",
    "model.add(Conv2D(32,(3,3),padding='same',kernel_initializer='he_normal',input_shape=(img_rows,img_cols,1)))\n",
    "model.add(Activation('elu'))\n",
    "model.add(BatchNormalization())\n",
    "model.add(MaxPooling2D(pool_size=(2,2)))\n",
    "model.add(Dropout(0.2))\n",
    "\n",
    "# Block-2 \n",
    "\n",
    "model.add(Conv2D(64,(3,3),padding='same',kernel_initializer='he_normal'))\n",
    "model.add(Activation('elu'))\n",
    "model.add(BatchNormalization())\n",
    "model.add(Conv2D(64,(3,3),padding='same',kernel_initializer='he_normal'))\n",
    "model.add(Activation('elu'))\n",
    "model.add(BatchNormalization())\n",
    "model.add(MaxPooling2D(pool_size=(2,2)))\n",
    "model.add(Dropout(0.2))\n",
    "\n",
    "# Block-3\n",
    "\n",
    "model.add(Conv2D(128,(3,3),padding='same',kernel_initializer='he_normal'))\n",
    "model.add(Activation('elu'))\n",
    "model.add(BatchNormalization())\n",
    "model.add(Conv2D(128,(3,3),padding='same',kernel_initializer='he_normal'))\n",
    "model.add(Activation('elu'))\n",
    "model.add(BatchNormalization())\n",
    "model.add(MaxPooling2D(pool_size=(2,2)))\n",
    "model.add(Dropout(0.2))\n",
    "\n",
    "# Block-4 \n",
    "\n",
    "model.add(Conv2D(256,(3,3),padding='same',kernel_initializer='he_normal'))\n",
    "model.add(Activation('elu'))\n",
    "model.add(BatchNormalization())\n",
    "model.add(Conv2D(256,(3,3),padding='same',kernel_initializer='he_normal'))\n",
    "model.add(Activation('elu'))\n",
    "model.add(BatchNormalization())\n",
    "model.add(MaxPooling2D(pool_size=(2,2)))\n",
    "model.add(Dropout(0.2))\n",
    "\n",
    "# Block-5\n",
    "\n",
    "model.add(Flatten())\n",
    "model.add(Dense(64,kernel_initializer='he_normal'))\n",
    "model.add(Activation('elu'))\n",
    "model.add(BatchNormalization())\n",
    "model.add(Dropout(0.5))\n",
    "\n",
    "# Block-6\n",
    "\n",
    "model.add(Dense(64,kernel_initializer='he_normal'))\n",
    "model.add(Activation('elu'))\n",
    "model.add(BatchNormalization())\n",
    "model.add(Dropout(0.5))\n",
    "\n",
    "# Block-7\n",
    "\n",
    "model.add(Dense(num_classes,kernel_initializer='he_normal'))\n",
    "model.add(Activation('softmax'))\n",
    "\n",
    "print(model.summary())\n",
    "\n",
    "from keras.optimizers import RMSprop,SGD,Adam\n",
    "from keras.callbacks import ModelCheckpoint, EarlyStopping, ReduceLROnPlateau\n",
    "\n",
    "checkpoint = ModelCheckpoint('Emotion_little_vgg.h5',\n",
    "                             monitor='val_loss',\n",
    "                             mode='min',\n",
    "                             save_best_only=True,\n",
    "                             verbose=1)\n",
    "\n",
    "earlystop = EarlyStopping(monitor='val_loss',\n",
    "                          min_delta=0,\n",
    "                          patience=3,\n",
    "                          verbose=1,\n",
    "                          restore_best_weights=True\n",
    "                          )\n",
    "\n",
    "reduce_lr = ReduceLROnPlateau(monitor='val_loss',\n",
    "                              factor=0.2,\n",
    "                              patience=3,\n",
    "                              verbose=1,\n",
    "                              min_delta=0.0001)\n",
    "\n",
    "callbacks = [earlystop,checkpoint,reduce_lr]\n",
    "\n",
    "model.compile(loss='categorical_crossentropy',\n",
    "              optimizer = Adam(lr=0.001),\n",
    "              metrics=['accuracy'])\n",
    "\n",
    "nb_train_samples = 24320\n",
    "nb_validation_samples = 3072\n",
    "epochs=40\n"
   ]
  },
  {
   "cell_type": "code",
   "execution_count": 12,
   "id": "postal-steering",
   "metadata": {
    "execution": {
     "iopub.execute_input": "2021-06-22T06:03:54.339223Z",
     "iopub.status.busy": "2021-06-22T06:03:54.338563Z",
     "iopub.status.idle": "2021-06-22T06:24:27.169154Z",
     "shell.execute_reply": "2021-06-22T06:24:27.169529Z",
     "shell.execute_reply.started": "2021-06-22T05:31:14.488817Z"
    },
    "papermill": {
     "duration": 1232.851942,
     "end_time": "2021-06-22T06:24:27.169703",
     "exception": false,
     "start_time": "2021-06-22T06:03:54.317761",
     "status": "completed"
    },
    "tags": []
   },
   "outputs": [
    {
     "name": "stderr",
     "output_type": "stream",
     "text": [
      "/opt/conda/lib/python3.7/site-packages/tensorflow/python/keras/engine/training.py:1844: UserWarning: `Model.fit_generator` is deprecated and will be removed in a future version. Please use `Model.fit`, which supports generators.\n",
      "  warnings.warn('`Model.fit_generator` is deprecated and '\n"
     ]
    },
    {
     "name": "stdout",
     "output_type": "stream",
     "text": [
      "Epoch 1/40\n",
      "380/380 [==============================] - 147s 374ms/step - loss: 2.5816 - accuracy: 0.1643 - val_loss: 1.8054 - val_accuracy: 0.2546\n",
      "\n",
      "Epoch 00001: val_loss improved from inf to 1.80541, saving model to Emotion_little_vgg.h5\n",
      "Epoch 2/40\n",
      "380/380 [==============================] - 56s 148ms/step - loss: 1.9359 - accuracy: 0.2204 - val_loss: 1.7743 - val_accuracy: 0.2669\n",
      "\n",
      "Epoch 00002: val_loss improved from 1.80541 to 1.77429, saving model to Emotion_little_vgg.h5\n",
      "Epoch 3/40\n",
      "380/380 [==============================] - 39s 102ms/step - loss: 1.8261 - accuracy: 0.2411 - val_loss: 1.7665 - val_accuracy: 0.2575\n",
      "\n",
      "Epoch 00003: val_loss improved from 1.77429 to 1.76654, saving model to Emotion_little_vgg.h5\n",
      "Epoch 4/40\n",
      "380/380 [==============================] - 35s 91ms/step - loss: 1.7984 - accuracy: 0.2545 - val_loss: 1.7479 - val_accuracy: 0.2640\n",
      "\n",
      "Epoch 00004: val_loss improved from 1.76654 to 1.74794, saving model to Emotion_little_vgg.h5\n",
      "Epoch 5/40\n",
      "380/380 [==============================] - 32s 84ms/step - loss: 1.7826 - accuracy: 0.2600 - val_loss: 1.7047 - val_accuracy: 0.2952\n",
      "\n",
      "Epoch 00005: val_loss improved from 1.74794 to 1.70471, saving model to Emotion_little_vgg.h5\n",
      "Epoch 6/40\n",
      "380/380 [==============================] - 32s 83ms/step - loss: 1.7490 - accuracy: 0.2785 - val_loss: 1.6639 - val_accuracy: 0.3226\n",
      "\n",
      "Epoch 00006: val_loss improved from 1.70471 to 1.66388, saving model to Emotion_little_vgg.h5\n",
      "Epoch 7/40\n",
      "380/380 [==============================] - 31s 82ms/step - loss: 1.7150 - accuracy: 0.2913 - val_loss: 1.5968 - val_accuracy: 0.3516\n",
      "\n",
      "Epoch 00007: val_loss improved from 1.66388 to 1.59683, saving model to Emotion_little_vgg.h5\n",
      "Epoch 8/40\n",
      "380/380 [==============================] - 32s 83ms/step - loss: 1.6683 - accuracy: 0.3239 - val_loss: 1.8492 - val_accuracy: 0.3610\n",
      "\n",
      "Epoch 00008: val_loss did not improve from 1.59683\n",
      "Epoch 9/40\n",
      "380/380 [==============================] - 32s 84ms/step - loss: 1.6004 - accuracy: 0.3625 - val_loss: 1.4106 - val_accuracy: 0.4674\n",
      "\n",
      "Epoch 00009: val_loss improved from 1.59683 to 1.41060, saving model to Emotion_little_vgg.h5\n",
      "Epoch 10/40\n",
      "380/380 [==============================] - 31s 82ms/step - loss: 1.5447 - accuracy: 0.4019 - val_loss: 1.3310 - val_accuracy: 0.4893\n",
      "\n",
      "Epoch 00010: val_loss improved from 1.41060 to 1.33103, saving model to Emotion_little_vgg.h5\n",
      "Epoch 11/40\n",
      "380/380 [==============================] - 31s 83ms/step - loss: 1.5068 - accuracy: 0.4134 - val_loss: 1.2956 - val_accuracy: 0.5046\n",
      "\n",
      "Epoch 00011: val_loss improved from 1.33103 to 1.29560, saving model to Emotion_little_vgg.h5\n",
      "Epoch 12/40\n",
      "380/380 [==============================] - 31s 82ms/step - loss: 1.4784 - accuracy: 0.4285 - val_loss: 1.2270 - val_accuracy: 0.5238\n",
      "\n",
      "Epoch 00012: val_loss improved from 1.29560 to 1.22697, saving model to Emotion_little_vgg.h5\n",
      "Epoch 13/40\n",
      "380/380 [==============================] - 32s 84ms/step - loss: 1.4371 - accuracy: 0.4527 - val_loss: 1.2191 - val_accuracy: 0.5280\n",
      "\n",
      "Epoch 00013: val_loss improved from 1.22697 to 1.21912, saving model to Emotion_little_vgg.h5\n",
      "Epoch 14/40\n",
      "380/380 [==============================] - 31s 81ms/step - loss: 1.4121 - accuracy: 0.4594 - val_loss: 1.2358 - val_accuracy: 0.5251\n",
      "\n",
      "Epoch 00014: val_loss did not improve from 1.21912\n",
      "Epoch 15/40\n",
      "380/380 [==============================] - 31s 83ms/step - loss: 1.4053 - accuracy: 0.4636 - val_loss: 1.1812 - val_accuracy: 0.5485\n",
      "\n",
      "Epoch 00015: val_loss improved from 1.21912 to 1.18120, saving model to Emotion_little_vgg.h5\n",
      "Epoch 16/40\n",
      "380/380 [==============================] - 31s 81ms/step - loss: 1.3818 - accuracy: 0.4777 - val_loss: 1.1578 - val_accuracy: 0.5540\n",
      "\n",
      "Epoch 00016: val_loss improved from 1.18120 to 1.15783, saving model to Emotion_little_vgg.h5\n",
      "Epoch 17/40\n",
      "380/380 [==============================] - 32s 85ms/step - loss: 1.3611 - accuracy: 0.4827 - val_loss: 1.1298 - val_accuracy: 0.5667\n",
      "\n",
      "Epoch 00017: val_loss improved from 1.15783 to 1.12983, saving model to Emotion_little_vgg.h5\n",
      "Epoch 18/40\n",
      "380/380 [==============================] - 32s 83ms/step - loss: 1.3522 - accuracy: 0.4895 - val_loss: 1.1658 - val_accuracy: 0.5658\n",
      "\n",
      "Epoch 00018: val_loss did not improve from 1.12983\n",
      "Epoch 19/40\n",
      "380/380 [==============================] - 31s 82ms/step - loss: 1.3506 - accuracy: 0.4842 - val_loss: 1.1734 - val_accuracy: 0.5632\n",
      "\n",
      "Epoch 00019: val_loss did not improve from 1.12983\n",
      "Epoch 20/40\n",
      "380/380 [==============================] - 31s 83ms/step - loss: 1.3242 - accuracy: 0.5046 - val_loss: 1.1162 - val_accuracy: 0.5687\n",
      "\n",
      "Epoch 00020: val_loss improved from 1.12983 to 1.11621, saving model to Emotion_little_vgg.h5\n",
      "Epoch 21/40\n",
      "380/380 [==============================] - 32s 84ms/step - loss: 1.3194 - accuracy: 0.4997 - val_loss: 1.1426 - val_accuracy: 0.5713\n",
      "\n",
      "Epoch 00021: val_loss did not improve from 1.11621\n",
      "Epoch 22/40\n",
      "380/380 [==============================] - 32s 84ms/step - loss: 1.3275 - accuracy: 0.5029 - val_loss: 1.1206 - val_accuracy: 0.5745\n",
      "\n",
      "Epoch 00022: val_loss did not improve from 1.11621\n",
      "Epoch 23/40\n",
      "380/380 [==============================] - 32s 83ms/step - loss: 1.3051 - accuracy: 0.5159 - val_loss: 1.0816 - val_accuracy: 0.5830\n",
      "\n",
      "Epoch 00023: val_loss improved from 1.11621 to 1.08161, saving model to Emotion_little_vgg.h5\n",
      "Epoch 24/40\n",
      "380/380 [==============================] - 31s 83ms/step - loss: 1.2932 - accuracy: 0.5157 - val_loss: 1.1397 - val_accuracy: 0.5638\n",
      "\n",
      "Epoch 00024: val_loss did not improve from 1.08161\n",
      "Epoch 25/40\n",
      "380/380 [==============================] - 32s 84ms/step - loss: 1.2914 - accuracy: 0.5155 - val_loss: 1.0799 - val_accuracy: 0.5824\n",
      "\n",
      "Epoch 00025: val_loss improved from 1.08161 to 1.07987, saving model to Emotion_little_vgg.h5\n",
      "Epoch 26/40\n",
      "380/380 [==============================] - 32s 85ms/step - loss: 1.2817 - accuracy: 0.5202 - val_loss: 1.0347 - val_accuracy: 0.6071\n",
      "\n",
      "Epoch 00026: val_loss improved from 1.07987 to 1.03472, saving model to Emotion_little_vgg.h5\n",
      "Epoch 27/40\n",
      "380/380 [==============================] - 32s 84ms/step - loss: 1.2657 - accuracy: 0.5271 - val_loss: 1.0547 - val_accuracy: 0.6006\n",
      "\n",
      "Epoch 00027: val_loss did not improve from 1.03472\n",
      "Epoch 28/40\n",
      "380/380 [==============================] - 32s 85ms/step - loss: 1.2619 - accuracy: 0.5275 - val_loss: 1.0780 - val_accuracy: 0.6016\n",
      "\n",
      "Epoch 00028: val_loss did not improve from 1.03472\n",
      "Epoch 29/40\n",
      "380/380 [==============================] - 32s 84ms/step - loss: 1.2563 - accuracy: 0.5308 - val_loss: 1.0321 - val_accuracy: 0.6038\n",
      "\n",
      "Epoch 00029: val_loss improved from 1.03472 to 1.03206, saving model to Emotion_little_vgg.h5\n",
      "Epoch 30/40\n",
      "380/380 [==============================] - 32s 84ms/step - loss: 1.2477 - accuracy: 0.5369 - val_loss: 1.0327 - val_accuracy: 0.6045\n",
      "\n",
      "Epoch 00030: val_loss did not improve from 1.03206\n",
      "Epoch 31/40\n",
      "380/380 [==============================] - 31s 81ms/step - loss: 1.2499 - accuracy: 0.5364 - val_loss: 1.0097 - val_accuracy: 0.6195\n",
      "\n",
      "Epoch 00031: val_loss improved from 1.03206 to 1.00965, saving model to Emotion_little_vgg.h5\n",
      "Epoch 32/40\n",
      "380/380 [==============================] - 32s 85ms/step - loss: 1.2436 - accuracy: 0.5360 - val_loss: 1.0416 - val_accuracy: 0.6048\n",
      "\n",
      "Epoch 00032: val_loss did not improve from 1.00965\n",
      "Epoch 33/40\n",
      "380/380 [==============================] - 32s 85ms/step - loss: 1.2256 - accuracy: 0.5443 - val_loss: 1.0304 - val_accuracy: 0.6227\n",
      "\n",
      "Epoch 00033: val_loss did not improve from 1.00965\n",
      "Epoch 34/40\n",
      "380/380 [==============================] - 32s 85ms/step - loss: 1.2220 - accuracy: 0.5451 - val_loss: 1.0308 - val_accuracy: 0.6136\n",
      "Restoring model weights from the end of the best epoch.\n",
      "\n",
      "Epoch 00034: val_loss did not improve from 1.00965\n",
      "\n",
      "Epoch 00034: ReduceLROnPlateau reducing learning rate to 0.00020000000949949026.\n",
      "Epoch 00034: early stopping\n"
     ]
    }
   ],
   "source": [
    "history=model.fit_generator(\n",
    "                train_generator,\n",
    "                steps_per_epoch=nb_train_samples//batch_size,\n",
    "                epochs=epochs,\n",
    "                callbacks=callbacks,\n",
    "                validation_data=validation_generator,\n",
    "                validation_steps=nb_validation_samples//batch_size)"
   ]
  },
  {
   "cell_type": "markdown",
   "id": "dressed-pixel",
   "metadata": {
    "papermill": {
     "duration": 3.277399,
     "end_time": "2021-06-22T06:24:33.782554",
     "exception": false,
     "start_time": "2021-06-22T06:24:30.505155",
     "status": "completed"
    },
    "tags": []
   },
   "source": [
    "# Accuracy and Performance"
   ]
  },
  {
   "cell_type": "code",
   "execution_count": 13,
   "id": "compact-anatomy",
   "metadata": {
    "execution": {
     "iopub.execute_input": "2021-06-22T06:24:40.633023Z",
     "iopub.status.busy": "2021-06-22T06:24:40.632146Z",
     "iopub.status.idle": "2021-06-22T06:24:40.901398Z",
     "shell.execute_reply": "2021-06-22T06:24:40.900961Z",
     "shell.execute_reply.started": "2021-06-22T06:00:07.063939Z"
    },
    "papermill": {
     "duration": 3.593179,
     "end_time": "2021-06-22T06:24:40.901519",
     "exception": false,
     "start_time": "2021-06-22T06:24:37.308340",
     "status": "completed"
    },
    "tags": []
   },
   "outputs": [
    {
     "data": {
      "image/png": "[encoded data removed]",
      "text/plain": [
       "<Figure size 1440x720 with 2 Axes>"
      ]
     },
     "metadata": {},
     "output_type": "display_data"
    }
   ],
   "source": [
    "plt.style.use('dark_background')\n",
    "\n",
    "plt.figure(figsize=(20,10))\n",
    "plt.subplot(1, 2, 1)\n",
    "plt.suptitle('Optimizer : Adam', fontsize=10)\n",
    "plt.ylabel('Loss', fontsize=16)\n",
    "plt.plot(history.history['loss'], label='Training Loss')\n",
    "plt.plot(history.history['val_loss'], label='Validation Loss')\n",
    "plt.legend(loc='upper right')\n",
    "\n",
    "plt.subplot(1, 2, 2)\n",
    "plt.ylabel('Accuracy', fontsize=16)\n",
    "plt.plot(history.history['accuracy'], label='Training Accuracy')\n",
    "plt.plot(history.history['val_accuracy'], label='Validation Accuracy')\n",
    "plt.legend(loc='lower right')\n",
    "plt.show()"
   ]
  }
 ],
 "metadata": {
  "kernelspec": {
   "display_name": "Python 3",
   "language": "python",
   "name": "python3"
  },
  "language_info": {
   "codemirror_mode": {
    "name": "ipython",
    "version": 3
   },
   "file_extension": ".py",
   "mimetype": "text/x-python",
   "name": "python",
   "nbconvert_exporter": "python",
   "pygments_lexer": "ipython3",
   "version": "3.7.10"
  },
  "papermill": {
   "default_parameters": {},
   "duration": 1285.826196,
   "end_time": "2021-06-22T06:24:47.147656",
   "environment_variables": {},
   "exception": null,
   "input_path": "__notebook__.ipynb",
   "output_path": "__notebook__.ipynb",
   "parameters": {},
   "start_time": "2021-06-22T06:03:21.321460",
   "version": "2.3.3"
  }
 },
 "nbformat": 4,
 "nbformat_minor": 5
}
